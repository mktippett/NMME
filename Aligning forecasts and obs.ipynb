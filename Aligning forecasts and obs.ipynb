{
 "cells": [
  {
   "cell_type": "markdown",
   "id": "1e3f5fb1-0c8e-44f5-bf5d-c5aad4bf8c50",
   "metadata": {},
   "source": [
    "# Aligning forecasts and observations\n",
    "\n",
    "1. Read some Niño 3.4 forecasts and observations from the IRI DL.\n",
    "2. Given them time coordinates that xarray/pandas understands (not ideal)\n",
    "3. Add a \"valid_time\" variable to the forecast dataset (also not idea)\n",
    "4. Automagically align forecasts and obervations"
   ]
  },
  {
   "cell_type": "code",
   "execution_count": 1,
   "id": "06478aa6-47bd-4148-9443-a297e43c1cde",
   "metadata": {},
   "outputs": [],
   "source": [
    "import numpy as np\n",
    "import xarray as xr\n",
    "import pandas as pd\n",
    "\n",
    "from matplotlib import pyplot as plt\n",
    "%config InlineBackend.figure_format = 'retina'\n",
    "%matplotlib inline"
   ]
  },
  {
   "cell_type": "code",
   "execution_count": 2,
   "id": "62873085-6638-4e41-8da8-9dcea2680ecf",
   "metadata": {},
   "outputs": [],
   "source": [
    "nmme_url = 'https://iridl.ldeo.columbia.edu/SOURCES/.Models/.NMME/'\n",
    "n34_url = 'Y/-5/5/RANGEEDGES/X/190/240/RANGEEDGES%5BX/Y%5Daverage/'"
   ]
  },
  {
   "cell_type": "code",
   "execution_count": null,
   "id": "bda42622-3dc5-42eb-9d87-0464fb5668d0",
   "metadata": {},
   "outputs": [],
   "source": [
    "#Observations \n",
    "# Construct the url pointing to the data\n",
    "dl_loc = 'SOURCES/.NOAA/.NCDC/.ERSST/.version5/.sst/'\n",
    "time_str = 'T/(Jan%201980)/(Dec%202022)/RANGE/'\n",
    "obs_url = 'https://iridl.ldeo.columbia.edu/' + dl_loc + time_str + n34_url + 'zlev/removeGRID/dods'\n",
    "ds_obs = xr.open_dataset(obs_url, decode_times=False)\n",
    "\n",
    "# replace DL time index with a pandas time index\n",
    "N = len(ds_obs.T)\n",
    "ds_obs['T'] = pd.date_range(start='1/1/1980', periods=N, freq='MS')\n",
    "ds_obs = ds_obs.rename({'T': 'time'})\n",
    "obsa = ds_obs.sst.groupby('time.month') - ds_obs.sst.groupby('time.month').mean('time')\n",
    "obsa.plot(figsize=(12, 3))\n",
    "plt.show()"
   ]
  },
  {
   "cell_type": "code",
   "execution_count": null,
   "id": "877dba16-1424-4488-8c51-e07a60ba3d2c",
   "metadata": {},
   "outputs": [],
   "source": [
    "#GFDL-SPEAR\n",
    "model = 'GFDL-SPEAR'\n",
    "h_url = nmme_url + '.GFDL-SPEAR/.HINDCAST/.MONTHLY/.sst/' + n34_url + 'dods'\n",
    "f_url = nmme_url + '.GFDL-SPEAR/.FORECAST/.MONTHLY/.sst/S/(Jan%202021)/last/RANGE/' + n34_url + 'dods'\n",
    "h_ds = xr.open_dataset(h_url, decode_times=False)\n",
    "f_ds = xr.open_dataset(f_url, decode_times=False)\n",
    "ds = xr.concat([h_ds, f_ds], dim='S')\n",
    "\n",
    "# replace DL time index with a pandas time index\n",
    "N = len(ds.S)\n",
    "ds['S'] = pd.date_range(start='1/1/1991', periods=N, freq='MS')\n",
    "\n",
    "ds['ssta'] = ds.sst.groupby('S.month') - ds.sst.groupby('S.month').mean('S')\n",
    "ds.ssta.mean('M').plot(x='S', figsize=(12, 3))\n",
    "plt.title('Forecast')\n",
    "plt.show()"
   ]
  },
  {
   "cell_type": "code",
   "execution_count": null,
   "id": "57f93cc7-9f24-4a49-8fd0-b8174ebb6051",
   "metadata": {},
   "outputs": [],
   "source": [
    "# add a valid time to the forecast dataset\n",
    "valid_time = np.empty((len(ds.S), len(ds.L)), dtype='datetime64[ns]')\n",
    "for lead in range(len(ds.L)):\n",
    "    valid_time[:, lead] = [(ds.S.values[ii] + pd.DateOffset(months=lead)) for ii in range(len(ds.S))]\n",
    "\n",
    "ds['valid_time'] = (('S', 'L'), valid_time)"
   ]
  },
  {
   "cell_type": "markdown",
   "id": "ececdce6-aa63-4f5a-8120-19ab61752608",
   "metadata": {},
   "source": [
    "If your observations and forecast have a valid_time and good time grids, you can start here."
   ]
  },
  {
   "cell_type": "code",
   "execution_count": null,
   "id": "60d4c9fd-55db-4b4e-a04a-62297d299731",
   "metadata": {},
   "outputs": [],
   "source": [
    "# add extre time to the obs (e.g., the future!)\n",
    "extra_time = np.unique(ds.valid_time)\n",
    "obsa = obsa.reindex({'time': extra_time})\n",
    "\n",
    "# this is where the magic happens\n",
    "ds['obsa'] = (('S', 'L'), obsa.sel(time=ds.valid_time).data)\n",
    "ds"
   ]
  },
  {
   "cell_type": "code",
   "execution_count": null,
   "id": "3f4a10b0-752c-4b86-9d61-095eb975c58c",
   "metadata": {},
   "outputs": [],
   "source": [
    "ds.obsa.plot(x='S', figsize=(12, 3))\n",
    "plt.title('Observations matching forecasts')\n",
    "plt.show()"
   ]
  },
  {
   "cell_type": "code",
   "execution_count": null,
   "id": "fc80da61-409b-426b-a096-b56d473d31ae",
   "metadata": {},
   "outputs": [],
   "source": [
    "error = ds.ssta.mean('M') - ds.obsa\n",
    "error.plot(x='S', figsize=(12, 3))\n",
    "plt.show()"
   ]
  },
  {
   "cell_type": "code",
   "execution_count": null,
   "id": "29794718-8543-4eaa-9068-67a3080665aa",
   "metadata": {},
   "outputs": [],
   "source": [
    "fig, ax = plt.subplots(figsize=(13, 4))\n",
    "ax.plot(ds.valid_time[:, 0], ds.obsa[:, 0], color='gray', lw=4, label='obs')\n",
    "ax.plot(ds.valid_time.T, ds.ssta.mean('M').T, 'salmon', lw=1, alpha=0.5)\n",
    "plt.legend()\n",
    "plt.show()"
   ]
  },
  {
   "cell_type": "markdown",
   "id": "7144be08-2a05-4aad-982a-7466593960c2",
   "metadata": {},
   "source": [
    "# Make a dataset with target and lead dimensions"
   ]
  },
  {
   "cell_type": "code",
   "execution_count": null,
   "id": "e4a99df2-a742-49e3-92f3-8e41757ac3f6",
   "metadata": {},
   "outputs": [],
   "source": [
    "ds_TL = xr.concat([ds.sel(L=l).swap_dims({\"S\":\"valid_time\"}) for l in ds.L],\"L\")"
   ]
  },
  {
   "cell_type": "code",
   "execution_count": null,
   "id": "64e29a89-201a-4249-81ba-bf9f0d0a7f55",
   "metadata": {},
   "outputs": [],
   "source": [
    "ds_TL.ssta.mean('M').plot(figsize=(12, 3));"
   ]
  },
  {
   "cell_type": "code",
   "execution_count": null,
   "id": "9bd02405-701a-4b7c-9e62-dc7a0a9807f6",
   "metadata": {},
   "outputs": [],
   "source": [
    "ds_TL.obsa.plot(figsize=(12, 3));"
   ]
  }
 ],
 "metadata": {
  "kernelspec": {
   "display_name": "Python [conda env:pangeo-docker] *",
   "language": "python",
   "name": "conda-env-pangeo-docker-py"
  },
  "language_info": {
   "codemirror_mode": {
    "name": "ipython",
    "version": 3
   },
   "file_extension": ".py",
   "mimetype": "text/x-python",
   "name": "python",
   "nbconvert_exporter": "python",
   "pygments_lexer": "ipython3",
   "version": "3.10.11"
  }
 },
 "nbformat": 4,
 "nbformat_minor": 5
}
