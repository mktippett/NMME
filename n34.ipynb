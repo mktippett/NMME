{
 "cells": [
  {
   "cell_type": "markdown",
   "metadata": {},
   "source": [
    "# NMME Niño 3.4"
   ]
  },
  {
   "cell_type": "code",
   "execution_count": 1,
   "metadata": {},
   "outputs": [],
   "source": [
    "import numpy as np\n",
    "import xarray as xr\n",
    "\n",
    "import pandas as pd\n",
    "\n",
    "from matplotlib import pyplot as plt\n",
    "%config InlineBackend.figure_format = 'retina'\n",
    "%matplotlib inline\n",
    "\n",
    "from datetime import datetime\n",
    "months =[datetime(2019, imon, 1) for imon in np.arange(1, 12 + 1)]\n",
    "month_str = [date_obj.strftime('%b') for date_obj in months]\n",
    "m_str = [w[0] for w in month_str];\n",
    "\n",
    "# Get color order\n",
    "prop_cycle = plt.rcParams['axes.prop_cycle']\n",
    "colors = prop_cycle.by_key()['color']"
   ]
  },
  {
   "cell_type": "code",
   "execution_count": 2,
   "metadata": {},
   "outputs": [],
   "source": [
    "nmme_url = 'https://iridl.ldeo.columbia.edu/SOURCES/.Models/.NMME/'\n",
    "n34_url = 'Y/-5/5/RANGEEDGES/X/190/240/RANGEEDGES%5BX/Y%5Daverage/'"
   ]
  },
  {
   "cell_type": "code",
   "execution_count": 3,
   "metadata": {},
   "outputs": [],
   "source": [
    "model_list = ['CanCM4i', 'COLA-RSMAS-CCSM4', 'GEM-NEMO', 'GFDL-SPEAR', 'NASA-GEOSS2S', 'NCEP-CFSv2']"
   ]
  },
  {
   "cell_type": "markdown",
   "metadata": {},
   "source": [
    "## Functions"
   ]
  },
  {
   "cell_type": "code",
   "execution_count": 4,
   "metadata": {},
   "outputs": [],
   "source": [
    "# For the IRI DL 'months since' unit\n",
    "def decode_cf(ds, time_var):\n",
    "    if ds[time_var].attrs['calendar'] == '360':\n",
    "        ds[time_var].attrs['calendar'] = '360_day'\n",
    "    ds = xr.decode_cf(ds, decode_times=True)\n",
    "    return ds"
   ]
  },
  {
   "cell_type": "code",
   "execution_count": 5,
   "metadata": {},
   "outputs": [],
   "source": [
    "# correlation as function of start month\n",
    "def ac_by_start(x, y):\n",
    "    xa = x.groupby('S.month') - x.groupby('S.month').mean('S') \n",
    "    ya = y.groupby('S.month') - y.groupby('S.month').mean('S') \n",
    "    c = (xa*ya).groupby('S.month').mean('S')/xa.groupby('S.month').std('S')/ya.groupby('S.month').std('S')\n",
    "    c.attrs['long_name'] = 'correlation'\n",
    "    c.month.attrs['long_name'] = 'start month'\n",
    "    return c"
   ]
  },
  {
   "cell_type": "code",
   "execution_count": 6,
   "metadata": {},
   "outputs": [],
   "source": [
    "# MSE skill score as a function of start month\n",
    "def msess_by_start(f, o):\n",
    "    # assumes:\n",
    "    # 1. f and o are anomalies (the mean is not removed here)\n",
    "    # 2. the reference forecast is zero anomaly\n",
    "    # Note: use mean instead of sum to get the desired nan behavior (nan if all values missing. e.g., models with shorter forecasts)\n",
    "    msess = 1.0 - ((f - o)**2).groupby('S.month').mean('S')/(o**2).groupby('S.month').mean('S')\n",
    "    msess.attrs['long_name'] = 'MSESS'\n",
    "    msess.month.attrs['long_name'] = 'start month'\n",
    "    return msess"
   ]
  },
  {
   "cell_type": "markdown",
   "metadata": {},
   "source": [
    "# Read data"
   ]
  },
  {
   "cell_type": "markdown",
   "metadata": {},
   "source": [
    "## Obserations (ERSSTv5)"
   ]
  },
  {
   "cell_type": "code",
   "execution_count": null,
   "metadata": {},
   "outputs": [],
   "source": [
    "#Observations do not have to match the forecasts\n",
    "\n",
    "# Construct the url pointing to the data\n",
    "dl_loc = 'SOURCES/.NOAA/.NCDC/.ERSST/.version5/.sst/'\n",
    "time_str = 'T/(Jan%201980)/last/RANGE/'\n",
    "obs_url = 'https://iridl.ldeo.columbia.edu/' + dl_loc + time_str + n34_url + 'zlev/removeGRID/' + 'dods'\n",
    "\n",
    "obs_ds = xr.open_dataset(obs_url, decode_times=False)\n",
    "\n",
    "# BECAUSE the forecasts go beyond the obs pad with 14 nan\n",
    "extra_T = np.arange(obs_ds.T[0], obs_ds.T[-1] + 14)\n",
    "obs_ds_padded = obs_ds.reindex({'T': extra_T})\n",
    "obs = obs_ds_padded.sst\n",
    "obs.plot();"
   ]
  },
  {
   "cell_type": "markdown",
   "metadata": {},
   "source": [
    "# Six active NMME models"
   ]
  },
  {
   "cell_type": "code",
   "execution_count": null,
   "metadata": {},
   "outputs": [],
   "source": [
    "# We will make a list of data sets and then merge them\n",
    "ds_list = []\n",
    "\n",
    "# mask for the 1991-2020 climatology\n",
    "import cftime \n",
    "clim_start = cftime.Datetime360Day(1991, 1, 16, 0, 0, 0, 0)\n",
    "clim_end = cftime.Datetime360Day(2020, 12, 16, 0, 0, 0, 0)"
   ]
  },
  {
   "cell_type": "markdown",
   "metadata": {},
   "source": [
    "## 0. CanCM4i"
   ]
  },
  {
   "cell_type": "code",
   "execution_count": null,
   "metadata": {},
   "outputs": [],
   "source": [
    "#CanCM4i\n",
    "model = 'CanCM4i'\n",
    "# hindcast\n",
    "h_url = nmme_url + '.CanCM4i/.HINDCAST/.MONTHLY/.sst/' + n34_url + 'dods'\n",
    "h_ds = xr.open_dataset(h_url, decode_times=False)\n",
    "\n",
    "#realtime\n",
    "f_url = nmme_url + '.CanCM4i/.FORECAST/.MONTHLY/.sst/S/(Jan%202019)/last/RANGE/' + n34_url + 'dods'\n",
    "f_ds = xr.open_dataset(f_url, decode_times=False)\n",
    "\n",
    "ds = xr.concat([h_ds, f_ds], dim='S')\n",
    "\n",
    "ds['Lmax'] = len(ds.L)\n",
    "ds['Mmax'] = len(ds.M)\n",
    "\n",
    "ds.coords['model'] = model\n",
    "ds = ds.expand_dims('model')\n",
    "\n",
    "ds['sst'] = ds.sst - 273.15\n",
    "T = ds.L + ds.S \n",
    "\n",
    "ds[\"obs\"] = ((\"L\", \"S\"), obs.sel(T=T))\n",
    "\n",
    "ds['target'] = T\n",
    "ds.target.attrs['units']  = ds.S.attrs['units']\n",
    "ds.target.attrs['calendar']  = '360_day'\n",
    "\n",
    "ds = decode_cf(ds, 'S')\n",
    "\n",
    "# climo period by start\n",
    "# f = ds.sst\n",
    "# ssta = f.groupby('S.month') - f.sel(S=slice('1991-01-01', '2020-12-01')).groupby('S.month').mean(('S', 'M'))\n",
    "# ssta.attrs['long_name'] = 'ssta'\n",
    "# ds['ssta'] = ssta\n",
    "\n",
    "# climo period by target\n",
    "climo_1991_2020 = (ds.target >= clim_start ) & (ds.target <= clim_end)\n",
    "f = ds.sst\n",
    "fc = ds.sst.where(climo_1991_2020)\n",
    "ssta = f.groupby('S.month') - fc.groupby('S.month').mean(('S', 'M'))\n",
    "ssta.attrs['long_name'] = 'ssta'\n",
    "ds['ssta'] = ssta\n",
    "\n",
    "ds.ssta.mean('M').plot(x='S');\n",
    "print(ds.S[-1].values)"
   ]
  },
  {
   "cell_type": "code",
   "execution_count": null,
   "metadata": {},
   "outputs": [],
   "source": [
    "ds_list.append(ds)"
   ]
  },
  {
   "cell_type": "markdown",
   "metadata": {},
   "source": [
    "## 1. GEM-NEMO"
   ]
  },
  {
   "cell_type": "code",
   "execution_count": null,
   "metadata": {},
   "outputs": [],
   "source": [
    "#GEM-NEMO\n",
    "model = 'GEM-NEMO'\n",
    "h_url = nmme_url + '.GEM-NEMO/.HINDCAST/.MONTHLY/.sst/' + n34_url +'dods'\n",
    "f_url = nmme_url + '.GEM-NEMO/.FORECAST/.MONTHLY/.sst/S/(Jan%202019)/last/RANGE/' + n34_url +'dods'\n",
    "#f_url = nmme_url + '.GEM-NEMO/.FORECAST/.MONTHLY/.sst/' + n34_url +'dods'\n",
    "\n",
    "h_ds = xr.open_dataset(h_url, decode_times=False)\n",
    "f_ds = xr.open_dataset(f_url, decode_times=False)\n",
    "ds = xr.concat([h_ds, f_ds], dim='S')\n",
    "\n",
    "ds['Lmax'] = len(ds.L)\n",
    "ds['Mmax'] = len(ds.M)\n",
    "\n",
    "ds.coords['model'] = model\n",
    "ds = ds.expand_dims('model')\n",
    "\n",
    "ds['sst'] = ds.sst - 273.15\n",
    "\n",
    "T = ds.L + ds.S \n",
    "\n",
    "ds[\"obs\"] = ((\"L\", \"S\"), obs.sel(T=T))\n",
    "\n",
    "ds['target'] = T\n",
    "ds.target.attrs['units']  = ds.S.attrs['units']\n",
    "ds.target.attrs['calendar']  = '360_day'\n",
    "\n",
    "ds = decode_cf(ds, 'S')\n",
    "\n",
    "# f = ds.sst\n",
    "# ssta = f.groupby('S.month') - f.sel(S=slice('1991-01-01', '2020-12-01')).groupby('S.month').mean(('S', 'M'))\n",
    "# ssta.attrs['long_name'] = 'ssta'\n",
    "# ds['ssta'] = ssta\n",
    "\n",
    "# climo period by target\n",
    "climo_1991_2020 = (ds.target >= clim_start ) & (ds.target <= clim_end)\n",
    "f = ds.sst\n",
    "fc = ds.sst.where(climo_1991_2020)\n",
    "ssta = f.groupby('S.month') - fc.groupby('S.month').mean(('S', 'M'))\n",
    "ssta.attrs['long_name'] = 'ssta'\n",
    "ds['ssta'] = ssta\n",
    "\n",
    "ds.ssta.mean('M').plot(x='S');"
   ]
  },
  {
   "cell_type": "code",
   "execution_count": null,
   "metadata": {},
   "outputs": [],
   "source": [
    "ds_list.append(ds)"
   ]
  },
  {
   "cell_type": "markdown",
   "metadata": {},
   "source": [
    "## 2. GFDL-SPEAR"
   ]
  },
  {
   "cell_type": "code",
   "execution_count": null,
   "metadata": {},
   "outputs": [],
   "source": [
    "#GFDL-SPEAR\n",
    "model = 'GFDL-SPEAR'\n",
    "h_url = nmme_url + '.GFDL-SPEAR/.HINDCAST/.MONTHLY/.sst/' + n34_url + 'dods'\n",
    "f_url = nmme_url + '.GFDL-SPEAR/.FORECAST/.MONTHLY/.sst/S/(Jan%202021)/last/RANGE/' + n34_url + '4/pop/dods'\n",
    "h_ds = xr.open_dataset(h_url, decode_times=False)\n",
    "f_ds = xr.open_dataset(f_url, decode_times=False)\n",
    "ds = xr.concat([h_ds, f_ds], dim='S')\n",
    "\n",
    "# use number of lead in hindcast\n",
    "# should make lead a function of start\n",
    "ds['Lmax'] = len(h_ds.L)\n",
    "ds['Mmax'] = len(h_ds.M)\n",
    "\n",
    "ds.coords['model'] = model\n",
    "ds = ds.expand_dims('model')\n",
    "\n",
    "T = ds.L + ds.S \n",
    "\n",
    "ds[\"obs\"] = ((\"L\", \"S\"), obs.sel(T=T))\n",
    "\n",
    "ds['target'] = T\n",
    "ds.target.attrs['units']  = ds.S.attrs['units']\n",
    "ds.target.attrs['calendar']  = '360_day'\n",
    "\n",
    "ds = decode_cf(ds, 'S')\n",
    "\n",
    "# f = ds.sst\n",
    "# ssta = f.groupby('S.month') - f.sel(S=slice('1991-01-01', '2020-12-01')).groupby('S.month').mean(('S', 'M'))\n",
    "# ssta.attrs['long_name'] = 'ssta'\n",
    "# ds['ssta'] = ssta\n",
    "\n",
    "# climo period by target\n",
    "climo_1991_2020 = (ds.target >= clim_start ) & (ds.target <= clim_end)\n",
    "f = ds.sst\n",
    "fc = ds.sst.where(climo_1991_2020)\n",
    "ssta = f.groupby('S.month') - fc.groupby('S.month').mean(('S', 'M'))\n",
    "ssta.attrs['long_name'] = 'ssta'\n",
    "ds['ssta'] = ssta\n",
    "\n",
    "ds.ssta.mean('M').plot(x='S');\n",
    "print(ds.S[-1].values)"
   ]
  },
  {
   "cell_type": "code",
   "execution_count": null,
   "metadata": {},
   "outputs": [],
   "source": [
    "ds_list.append(ds)"
   ]
  },
  {
   "cell_type": "markdown",
   "metadata": {},
   "source": [
    "## 3. COLA-RSMAS-CCSM4"
   ]
  },
  {
   "cell_type": "code",
   "execution_count": null,
   "metadata": {},
   "outputs": [],
   "source": [
    "#COLA-RSMAS-CCSM4\n",
    "model = 'COLA-RSMAS-CCSM4'\n",
    "url = nmme_url + '.COLA-RSMAS-CCSM4/.MONTHLY/.sst/' + n34_url + '3/pop/dods'\n",
    "ds = xr.open_dataset(url, decode_times=False)\n",
    "\n",
    "ds['Lmax'] = len(ds.L)\n",
    "ds['Mmax'] = len(ds.M)\n",
    "\n",
    "ds.coords['model'] = model\n",
    "ds = ds.expand_dims('model')\n",
    "\n",
    "T = ds.L + ds.S \n",
    "\n",
    "ds[\"obs\"] = ((\"L\", \"S\"), obs.sel(T=T))\n",
    "\n",
    "ds['target'] = T\n",
    "ds.target.attrs['units']  = ds.S.attrs['units']\n",
    "ds.target.attrs['calendar']  = '360_day'\n",
    "\n",
    "ds = decode_cf(ds, 'S')\n",
    "\n",
    "# two climatologies by start\n",
    "f1 = ds.sst.sel(S=slice('1982-01-01', '1998-12-01'))\n",
    "ssta1 = f1.groupby('S.month') - f1.groupby('S.month').mean(('S', 'M'))\n",
    "f2 = ds.sst.sel(S=slice('1999-01-01', '2021-12-01'))\n",
    "ssta2 = f2.groupby('S.month') - f2.sel(S=slice('1999-01-01', '2020-12-01')).groupby('S.month').mean(('S', 'M'))\n",
    "ssta = xr.concat([ssta1, ssta2], dim='S')\n",
    "\n",
    "ssta.attrs['long_name'] = 'ssta'\n",
    "ds['ssta'] = ssta\n",
    "\n",
    "ds.ssta.mean('M').plot(x='S');\n",
    "print(ds.S[-1].values)"
   ]
  },
  {
   "cell_type": "code",
   "execution_count": null,
   "metadata": {},
   "outputs": [],
   "source": [
    "ds_list.append(ds)"
   ]
  },
  {
   "cell_type": "markdown",
   "metadata": {},
   "source": [
    "## 4. NASA-GEOSS2S"
   ]
  },
  {
   "cell_type": "code",
   "execution_count": null,
   "metadata": {},
   "outputs": [],
   "source": [
    "#NASA-GEOSS2S\n",
    "model = 'NASA-GEOSS2S'\n",
    "\n",
    "h_url = nmme_url + '.NASA-GEOSS2S/.HINDCAST/.MONTHLY/.sst/' + n34_url +'dods'\n",
    "f_url = nmme_url + '.NASA-GEOSS2S/.FORECAST/.MONTHLY/.sst/' + n34_url +'4/pop/dods'\n",
    "h_ds = xr.open_dataset(h_url, decode_times=False)\n",
    "f_ds = xr.open_dataset(f_url, decode_times=False)\n",
    "ds = xr.concat([h_ds, f_ds], dim='S')\n",
    "\n",
    "# use number of leads in hindcast\n",
    "# should make lead a function of start?\n",
    "ds['Lmax'] = len(ds.L)\n",
    "ds['Mmax'] = len(h_ds.M)\n",
    "\n",
    "ds.coords['model'] = model\n",
    "ds = ds.expand_dims('model')\n",
    "\n",
    "T = ds.L + ds.S \n",
    "\n",
    "ds['target'] = T\n",
    "ds.target.attrs['units']  = ds.S.attrs['units']\n",
    "ds.target.attrs['calendar']  = '360_day'\n",
    "ds[\"obs\"] = ((\"L\", \"S\"), obs.sel(T=T))\n",
    "\n",
    "ds = decode_cf(ds, 'S')\n",
    "\n",
    "# f = ds.sst\n",
    "# ssta = f.groupby('S.month') - f.sel(S=slice('1991-01-01', '2020-12-01')).groupby('S.month').mean(('S', 'M'))\n",
    "# ssta.attrs['long_name'] = 'ssta'\n",
    "# ds['ssta'] = ssta\n",
    "\n",
    "# climo period by target\n",
    "climo_1991_2020 = (ds.target >= clim_start ) & (ds.target <= clim_end)\n",
    "f = ds.sst\n",
    "fc = ds.sst.where(climo_1991_2020)\n",
    "ssta = f.groupby('S.month') - fc.groupby('S.month').mean(('S', 'M'))\n",
    "ssta.attrs['long_name'] = 'ssta'\n",
    "ds['ssta'] = ssta\n",
    "ds.ssta.mean('M').plot(x='S');\n",
    "print(ds.S[-1].values)"
   ]
  },
  {
   "cell_type": "code",
   "execution_count": null,
   "metadata": {},
   "outputs": [],
   "source": [
    "ds_list.append(ds)"
   ]
  },
  {
   "cell_type": "markdown",
   "metadata": {},
   "source": [
    "## 5. NCEP-CFSv2\n",
    "\n",
    "CFSv2\n",
    "\n",
    "Compute anaomlies by removing 2 forecast climatologies. One for 1982-1998 and one for 1999-2020."
   ]
  },
  {
   "cell_type": "code",
   "execution_count": null,
   "metadata": {},
   "outputs": [],
   "source": [
    "#NCEP-CFSv2\n",
    "model = 'NCEP-CFSv2'\n",
    "h_url = nmme_url + '.NCEP-CFSv2/.HINDCAST/.MONTHLY/.sst/' + n34_url +'dods'\n",
    "f_url = nmme_url + '.NCEP-CFSv2/.FORECAST/.PENTAD_SAMPLES/.MONTHLY/.sst/' + n34_url +'dods'\n",
    "h_ds = xr.open_dataset(h_url, decode_times=False)\n",
    "f_ds = xr.open_dataset(f_url, decode_times=False)\n",
    "ds = xr.concat([h_ds, f_ds], dim='S')\n",
    "\n",
    "ds['Lmax'] = len(ds.L)\n",
    "ds['Mmax'] = len(ds.M)\n",
    "ds['Mmax'] = 24\n",
    "\n",
    "ds.coords['model'] = model\n",
    "ds = ds.expand_dims('model')\n",
    "\n",
    "T = ds.L + ds.S \n",
    "\n",
    "ds[\"obs\"] = ((\"L\", \"S\"), obs.sel(T=T))\n",
    "\n",
    "ds['target'] = T\n",
    "ds.target.attrs['units']  = ds.S.attrs['units']\n",
    "ds.target.attrs['calendar']  = '360_day'\n",
    "\n",
    "ds = decode_cf(ds, 'S')\n",
    "\n",
    "f1 = ds.sst.sel(S=slice('1982-01-01', '1998-12-01'))\n",
    "ssta1 = f1.groupby('S.month') - f1.groupby('S.month').mean(('S', 'M'))\n",
    "f2 = ds.sst.sel(S=slice('1999-01-01', '2021-12-01'))\n",
    "ssta2 = f2.groupby('S.month') - f2.sel(S=slice('1999-01-01', '2020-12-01')).groupby('S.month').mean(('S', 'M'))\n",
    "ssta = xr.concat([ssta1, ssta2], dim='S')\n",
    "\n",
    "ssta.attrs['long_name'] = 'ssta'\n",
    "ds['ssta'] = ssta\n",
    "ds.ssta.mean('M').plot(x='S');"
   ]
  },
  {
   "cell_type": "code",
   "execution_count": null,
   "metadata": {},
   "outputs": [],
   "source": [
    "ds_list.append(ds)"
   ]
  },
  {
   "cell_type": "markdown",
   "metadata": {},
   "source": [
    "## Multimodel ensemble"
   ]
  },
  {
   "cell_type": "code",
   "execution_count": null,
   "metadata": {},
   "outputs": [],
   "source": [
    "ds = xr.merge(ds_list)\n",
    "\n",
    "o = ds.obs\n",
    "ds['obsa'] = o.groupby(\"S.month\") - o.sel(S=slice('1991-01-01', '2020-12-01')).groupby(\"S.month\").mean(\"S\")\n",
    "ds"
   ]
  },
  {
   "cell_type": "markdown",
   "metadata": {},
   "source": [
    "# Save local copy (if you want, or skip)"
   ]
  },
  {
   "cell_type": "code",
   "execution_count": null,
   "metadata": {},
   "outputs": [],
   "source": [
    "ds_saved = ds.copy()\n",
    "\n",
    "import pickle\n",
    "#save a copy locally\n",
    "with open('n34_nmme_saved_on_disk', 'wb') as f:\n",
    "    pickle.dump(ds, f, pickle.HIGHEST_PROTOCOL)"
   ]
  },
  {
   "cell_type": "code",
   "execution_count": null,
   "metadata": {},
   "outputs": [],
   "source": [
    "import pickle\n",
    "#read a copy \n",
    "with open('n34_nmme_saved_on_disk', 'rb') as f:\n",
    "    # The protocol version used is detected automatically, so we do not\n",
    "    # have to specify it.\n",
    "    ds = pickle.load(f)"
   ]
  },
  {
   "cell_type": "markdown",
   "metadata": {},
   "source": [
    "# Plot data"
   ]
  },
  {
   "cell_type": "code",
   "execution_count": null,
   "metadata": {},
   "outputs": [],
   "source": [
    "#Ensemble mean (total)\n",
    "ds.sst.mean('M').plot(col='model', col_wrap = 3, x='S', figsize=(12, 5));"
   ]
  },
  {
   "cell_type": "code",
   "execution_count": null,
   "metadata": {},
   "outputs": [],
   "source": [
    "#Ensemble mean error (total)\n",
    "(ds.obs - ds.sst.mean('M')).plot(col='model', col_wrap = 3, x='S', figsize=(12, 5));"
   ]
  },
  {
   "cell_type": "code",
   "execution_count": null,
   "metadata": {},
   "outputs": [],
   "source": [
    "#Ensemble mean anomalies\n",
    "ds.ssta.mean('M').plot(col='model', col_wrap = 3, x='S', figsize=(12, 5));"
   ]
  },
  {
   "cell_type": "code",
   "execution_count": null,
   "metadata": {},
   "outputs": [],
   "source": [
    "#Ensemble mean anomaly error\n",
    "(ds.obsa - ds.ssta.mean('M')).plot(col='model', col_wrap = 3, x='S', figsize=(12, 5));"
   ]
  },
  {
   "cell_type": "code",
   "execution_count": null,
   "metadata": {},
   "outputs": [],
   "source": [
    "# Bias\n",
    "bias = (ds.sst - ds.obs).groupby('S.month').mean(('M', 'S'))\n",
    "bias.month.attrs['long_name'] = 'start month'\n",
    "bias.plot(col='model', col_wrap = 3, x='month')\n",
    "plt.xticks(ds.L + 0.5, labels=m_str)\n",
    "plt.show()"
   ]
  },
  {
   "cell_type": "markdown",
   "metadata": {},
   "source": [
    "# Skill by lead"
   ]
  },
  {
   "cell_type": "markdown",
   "metadata": {},
   "source": [
    "## 1. Correlation"
   ]
  },
  {
   "cell_type": "code",
   "execution_count": null,
   "metadata": {},
   "outputs": [],
   "source": [
    "ac1 = ac_by_start(ds.ssta.mean('M'), ds.obsa.sel(S=slice('1991-01-01', '2020-12-01')))\n",
    "#ac = ac_by_start(ds.ssta.mean('M'), ds.obsa)\n",
    "fg = ac1.plot(col='model', col_wrap = 3, x='month', vmin=0., vmax=1);\n",
    "plt.xticks(np.arange(0, 12) + 1, labels=m_str)\n",
    "fig = fg.fig\n",
    "fig.suptitle('Monthly anomaly correlation (1991–2020)', x = 0.42, y=1.03, fontsize=14, fontweight='bold');\n",
    "fig.set_facecolor(\"white\")\n",
    "plt.show()"
   ]
  },
  {
   "cell_type": "code",
   "execution_count": null,
   "metadata": {},
   "outputs": [],
   "source": [
    "#ac = ac_by_start(ds.ssta.mean('M').rolling(L=3).mean(), ds.obsa.rolling(L=3).mean())\n",
    "ac = ac_by_start(ds.ssta.mean('M'), ds.obsa)\n",
    "fg = ac.plot(col='model', col_wrap = 3, x='month', vmin=0., vmax=1)\n",
    "plt.xticks(np.arange(0, 12) + 1, labels=m_str)\n",
    "fig = fg.fig\n",
    "fig.suptitle('Monthly anomaly correlation (full period)', x = 0.42, y=1.03, fontsize=14, fontweight='bold');\n",
    "fig.set_facecolor(\"white\")\n",
    "plt.show()"
   ]
  },
  {
   "cell_type": "code",
   "execution_count": null,
   "metadata": {},
   "outputs": [],
   "source": [
    "fg = (ac - ac1).plot(col='model', col_wrap = 3, x='month');\n",
    "plt.xticks(np.arange(0, 12) + 1, labels=m_str)\n",
    "fig = fg.fig\n",
    "fig.suptitle('Full period minus 1991–2020 AC', x=0.43, y=1.03, fontsize=14, fontweight='bold');\n",
    "fig.set_facecolor(\"white\")"
   ]
  },
  {
   "cell_type": "code",
   "execution_count": null,
   "metadata": {},
   "outputs": [],
   "source": [
    "ac_mme = ac_by_start(ds.ssta.mean(('M', 'model')), ds.obsa)\n",
    "ac_mme.plot(x='month', vmin=0., vmax=1);\n",
    "plt.xticks(np.arange(0, 12) + 1, labels=m_str)\n",
    "plt.title('MME monthly anomaly correlation (full period)', x = 0.55, y=1.03, fontsize=14, fontweight='bold');\n",
    "plt.show()"
   ]
  },
  {
   "cell_type": "code",
   "execution_count": null,
   "metadata": {},
   "outputs": [],
   "source": [
    "ac_target = ac.copy()\n",
    "ac_target.month.attrs['long_name'] = 'target month'\n",
    "for ii in range(0, 12):\n",
    "    #ac_target[:, :, ii] = np.roll(ac[:, :, ii].values, ii)\n",
    "    ac_target.loc[dict(L=(ii+0.5))] = ac_target.loc[dict(L=(ii+0.5))].roll(month=ii, roll_coords=False)"
   ]
  },
  {
   "cell_type": "code",
   "execution_count": null,
   "metadata": {},
   "outputs": [],
   "source": [
    "fg = ac_target.plot(col='model', col_wrap = 3, x='month', vmin=0., vmax=1);\n",
    "plt.xticks(np.arange(0, 12) + 1, labels=m_str)\n",
    "fig = fg.fig\n",
    "fig.suptitle('Monthly anomaly correlation (full period)', x = 0.42, y=1.03, fontsize=14, fontweight='bold');\n",
    "fig.set_facecolor(\"white\")\n",
    "plt.show()"
   ]
  },
  {
   "cell_type": "code",
   "execution_count": null,
   "metadata": {},
   "outputs": [],
   "source": [
    "np.nanmean(ac_target.sel(model='NCEP-CFSv2').values[:, [0, 1, 2, 3, 4, 11]])**2"
   ]
  },
  {
   "cell_type": "markdown",
   "metadata": {},
   "source": [
    "## 2. MSESS"
   ]
  },
  {
   "cell_type": "code",
   "execution_count": null,
   "metadata": {},
   "outputs": [],
   "source": [
    "msess = msess_by_start(ds.ssta.mean('M'), ds.obsa)\n",
    "fg = msess.plot(col='model', col_wrap = 3, x='month', vmax=1);\n",
    "plt.xticks(np.arange(0, 12) + 1, labels=m_str)\n",
    "fig = fg.fig\n",
    "fig.suptitle('Monthly MSESS', x = 0.42, y=1.03, fontsize=14, fontweight='bold');\n",
    "fig.set_facecolor(\"white\")\n",
    "plt.show()"
   ]
  },
  {
   "cell_type": "code",
   "execution_count": null,
   "metadata": {},
   "outputs": [],
   "source": [
    "msess_mme = msess_by_start(ds.ssta.mean(('M', 'model')), ds.obsa)\n",
    "msess_mme.plot(x='month', cmap='RdBu_r', vmin=-1, vmax=1);\n",
    "plt.xticks(np.arange(0, 12) + 1, labels=m_str)\n",
    "plt.title('MME MSESS', x = 0.55, y=1.03, fontsize=14, fontweight='bold');\n",
    "fig.set_facecolor(\"white\")\n",
    "plt.show()"
   ]
  },
  {
   "cell_type": "code",
   "execution_count": null,
   "metadata": {},
   "outputs": [],
   "source": [
    "msess_target = msess.copy()\n",
    "msess_target.month.attrs['long_name'] = 'target month'\n",
    "for ii in range(0, 12):\n",
    "    msess_target.loc[dict(L=(ii+0.5))] = msess_target.loc[dict(L=(ii+0.5))].roll(month=ii, roll_coords=False)"
   ]
  },
  {
   "cell_type": "code",
   "execution_count": null,
   "metadata": {},
   "outputs": [],
   "source": [
    "fg = msess_target.plot(col='model', col_wrap = 3, x='month', vmax=1);\n",
    "plt.xticks(np.arange(0, 12) + 1, labels=m_str)\n",
    "fig = fg.fig\n",
    "fig.suptitle('Monthly MSESS', x = 0.42, y=1.03, fontsize=14, fontweight='bold');\n",
    "fig.set_facecolor(\"white\")\n",
    "plt.show()"
   ]
  },
  {
   "cell_type": "markdown",
   "metadata": {},
   "source": [
    "# Plume"
   ]
  },
  {
   "cell_type": "markdown",
   "metadata": {},
   "source": [
    "## Most recent forecast "
   ]
  },
  {
   "cell_type": "code",
   "execution_count": null,
   "metadata": {},
   "outputs": [],
   "source": [
    "# SPEAR has a problem\n",
    "ds.sst.loc[dict(model='GFDL-SPEAR', S='2021-08-01 00:00:00', M=12, L=slice(1, None))] "
   ]
  },
  {
   "cell_type": "code",
   "execution_count": null,
   "metadata": {},
   "outputs": [],
   "source": [
    "ds.ssta.loc[dict(model='GFDL-SPEAR', S='2021-08-01 00:00:00', M=12, L=slice(8, None))] = np.nan\n",
    "#ds.ssta.sel(model='GFDL-SPEAR').isel(S=-1).isel(M=11).loc()"
   ]
  },
  {
   "cell_type": "code",
   "execution_count": null,
   "metadata": {},
   "outputs": [],
   "source": [
    "# Most recent forecast\n",
    "fg = ds.ssta.isel(S=-1).plot(col='model', col_wrap = 3);\n",
    "fig = fg.fig\n",
    "fig.set_facecolor(\"white\")\n",
    "print(ds.S[-1].values)"
   ]
  },
  {
   "cell_type": "code",
   "execution_count": null,
   "metadata": {},
   "outputs": [],
   "source": [
    "#convert from cftime to regular time\n",
    "start = ds.indexes['S'].to_datetimeindex()"
   ]
  },
  {
   "cell_type": "code",
   "execution_count": null,
   "metadata": {},
   "outputs": [],
   "source": [
    "avail = np.where(~np.isnan(ds.ssta.isel(S=-1).isel(L=0).mean('M')))\n",
    "\n",
    "fig,ax = plt.subplots(figsize=(12, 7))\n",
    "for im in avail[0]:\n",
    "    #last month\n",
    "    leads = pd.date_range(start[-2], periods=12, freq=\"MS\")\n",
    "    ax.plot(leads, ds.ssta.isel(S=-2).mean('M').T[:, im], '--', lw=2, color=colors[im], alpha=0.5)\n",
    "    ax.plot(leads[0], ds.ssta.isel(S=-2).mean('M').T[0, im], 'o', lw=2, color=colors[im], alpha=0.5)\n",
    "\n",
    "\n",
    "    #this month\n",
    "    leads = pd.date_range(start[-1], periods=12, freq=\"MS\")\n",
    "    ax.plot(leads, ds.ssta.isel(S=-1).mean('M').T[:, im], lw=3, color=colors[im], label=ds.model.values[im], alpha=0.75)\n",
    "    ax.plot(leads[0], ds.ssta.isel(S=-1).mean('M').T[0, im], 's', lw=3, color=colors[im], alpha=0.75)\n",
    "\n",
    "ax.set_xticks(pd.date_range(start[-2], periods=13, freq=\"MS\"))\n",
    "fig.autofmt_xdate()\n",
    "\n",
    "ax.legend(ncol=1)\n",
    "ax.grid()\n",
    "fig.set_facecolor(\"white\")"
   ]
  },
  {
   "cell_type": "code",
   "execution_count": null,
   "metadata": {},
   "outputs": [],
   "source": [
    "avail = np.where(~np.isnan(ds.ssta.isel(S=-1).isel(L=0).mean('M')))\n",
    "\n",
    "fig, ax = plt.subplots(figsize=(12, 8))\n",
    "for im in avail[0]:\n",
    "    \n",
    "    #this month\n",
    "    leads = pd.date_range(start[-1], periods=12, freq=\"MS\")\n",
    "    ax.plot(leads, ds.ssta.isel(S=-1).isel(model=im).T, lw=2, color=colors[im], alpha=0.25)\n",
    "    ax.plot(leads, ds.ssta.isel(S=-1).mean('M').T[:, im], lw=4, color=colors[im], label=ds.model.values[im], alpha=0.85)\n",
    "    ax.plot(leads[0], ds.ssta.isel(S=-1).mean('M').T[0, im], 's', lw=3, color=colors[im])\n",
    "\n",
    "ax.set_xticks(pd.date_range(start[-1], periods=12, freq=\"MS\"))\n",
    "fig.autofmt_xdate()\n",
    "\n",
    "ax.legend(ncol=1)\n",
    "ax.grid()\n",
    "ax.set_title('NMME Niño 3.4 monthly anomalies (Aug 2021 forecasts)')\n",
    "fig.set_facecolor(\"white\")"
   ]
  },
  {
   "cell_type": "code",
   "execution_count": null,
   "metadata": {},
   "outputs": [],
   "source": [
    "avail = np.where(~np.isnan(ds.ssta.isel(S=-1).isel(L=0).mean('M')))\n",
    "\n",
    "fig, ax = plt.subplots(figsize=(12, 8))\n",
    "for im in avail[0]:\n",
    "    target = ds.target.isel(S=-1)\n",
    "    forecast = ds.ssta.isel(S=-1).isel(model=im).mean('M')\n",
    "    ax.plot(target, forecast, lw=3, color=colors[im], label=ds.model.values[im], alpha=0.75);\n",
    "\n",
    "#ax.set_xticks(pd.date_range(start[-1], periods=12, freq=\"MS\"))\n",
    "fig.autofmt_xdate()\n",
    "\n",
    "ax.legend(ncol=1)\n",
    "ax.grid()\n",
    "ax.set_title('NMME Niño 3.4 monthly anomalies (Aug 2021 forecasts)')\n",
    "fig.set_facecolor(\"white\")"
   ]
  },
  {
   "cell_type": "code",
   "execution_count": null,
   "metadata": {},
   "outputs": [],
   "source": [
    "target.values"
   ]
  },
  {
   "cell_type": "markdown",
   "metadata": {},
   "source": [
    "HOW to `convert cftime._cftime.Datetime360Day` to something useful"
   ]
  },
  {
   "cell_type": "code",
   "execution_count": null,
   "metadata": {},
   "outputs": [],
   "source": []
  }
 ],
 "metadata": {
  "kernelspec": {
   "display_name": "Python 3",
   "language": "python",
   "name": "python3"
  },
  "language_info": {
   "codemirror_mode": {
    "name": "ipython",
    "version": 3
   },
   "file_extension": ".py",
   "mimetype": "text/x-python",
   "name": "python",
   "nbconvert_exporter": "python",
   "pygments_lexer": "ipython3",
   "version": "3.6.13"
  }
 },
 "nbformat": 4,
 "nbformat_minor": 4
}
